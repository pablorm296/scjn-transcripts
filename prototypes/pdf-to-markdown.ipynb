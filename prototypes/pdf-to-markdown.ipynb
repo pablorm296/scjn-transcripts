{
 "cells": [
  {
   "cell_type": "code",
   "execution_count": 2,
   "metadata": {},
   "outputs": [],
   "source": [
    "import pdf2docx\n",
    "import markitdown\n",
    "import os"
   ]
  },
  {
   "cell_type": "code",
   "execution_count": 4,
   "metadata": {},
   "outputs": [],
   "source": [
    "INPUT_PATH = \"./input/18 de febrero de 2025 - Versión definitiva.pdf\"\n",
    "OUTPUT_PATH = \"./output/18 de febrero de 2025 - Versión definitiva.docx\""
   ]
  },
  {
   "cell_type": "code",
   "execution_count": 5,
   "metadata": {},
   "outputs": [
    {
     "data": {
      "text/plain": [
       "True"
      ]
     },
     "execution_count": 5,
     "metadata": {},
     "output_type": "execute_result"
    }
   ],
   "source": [
    "# Check input file exists\n",
    "os.path.exists(INPUT_PATH)"
   ]
  },
  {
   "cell_type": "code",
   "execution_count": 13,
   "metadata": {},
   "outputs": [
    {
     "name": "stderr",
     "output_type": "stream",
     "text": [
      "[INFO] Start to convert ./input/18 de febrero de 2025 - Versión definitiva.pdf\n",
      "[INFO] \u001b[1;36m[1/4] Opening document...\u001b[0m\n",
      "[INFO] \u001b[1;36m[2/4] Analyzing document...\u001b[0m\n",
      "[INFO] \u001b[1;36m[3/4] Parsing pages...\u001b[0m\n",
      "[INFO] (1/62) Page 1\n",
      "[INFO] (2/62) Page 2\n",
      "[INFO] (3/62) Page 3\n",
      "[INFO] (4/62) Page 4\n",
      "[INFO] (5/62) Page 5\n",
      "[INFO] (6/62) Page 6\n",
      "[INFO] (7/62) Page 7\n",
      "[INFO] (8/62) Page 8\n",
      "[INFO] (9/62) Page 9\n",
      "[INFO] (10/62) Page 10\n",
      "[INFO] (11/62) Page 11\n",
      "[INFO] (12/62) Page 12\n",
      "[INFO] (13/62) Page 13\n",
      "[INFO] (14/62) Page 14\n",
      "[INFO] (15/62) Page 15\n",
      "[INFO] (16/62) Page 16\n",
      "[INFO] (17/62) Page 17\n",
      "[INFO] (18/62) Page 18\n",
      "[INFO] (19/62) Page 19\n",
      "[INFO] (20/62) Page 20\n",
      "[INFO] (21/62) Page 21\n",
      "[INFO] (22/62) Page 22\n",
      "[INFO] (23/62) Page 23\n",
      "[INFO] (24/62) Page 24\n",
      "[INFO] (25/62) Page 25\n",
      "[INFO] (26/62) Page 26\n",
      "[INFO] (27/62) Page 27\n",
      "[INFO] (28/62) Page 28\n",
      "[INFO] (29/62) Page 29\n",
      "[INFO] (30/62) Page 30\n",
      "[INFO] (31/62) Page 31\n",
      "[INFO] (32/62) Page 32\n",
      "[INFO] (33/62) Page 33\n",
      "[INFO] (34/62) Page 34\n",
      "[INFO] (35/62) Page 35\n",
      "[INFO] (36/62) Page 36\n",
      "[INFO] (37/62) Page 37\n",
      "[INFO] (38/62) Page 38\n",
      "[INFO] (39/62) Page 39\n",
      "[INFO] (40/62) Page 40\n",
      "[INFO] (41/62) Page 41\n",
      "[INFO] (42/62) Page 42\n",
      "[INFO] (43/62) Page 43\n",
      "[INFO] (44/62) Page 44\n",
      "[INFO] (45/62) Page 45\n",
      "[INFO] (46/62) Page 46\n",
      "[INFO] (47/62) Page 47\n",
      "[INFO] (48/62) Page 48\n",
      "[INFO] (49/62) Page 49\n",
      "[INFO] (50/62) Page 50\n",
      "[INFO] (51/62) Page 51\n",
      "[INFO] (52/62) Page 52\n",
      "[INFO] (53/62) Page 53\n",
      "[INFO] (54/62) Page 54\n",
      "[INFO] (55/62) Page 55\n",
      "[INFO] (56/62) Page 56\n",
      "[INFO] (57/62) Page 57\n",
      "[INFO] (58/62) Page 58\n",
      "[INFO] (59/62) Page 59\n",
      "[INFO] (60/62) Page 60\n",
      "[INFO] (61/62) Page 61\n",
      "[INFO] (62/62) Page 62\n",
      "[INFO] \u001b[1;36m[4/4] Creating pages...\u001b[0m\n",
      "[INFO] (1/62) Page 1\n",
      "[INFO] (2/62) Page 2\n",
      "[INFO] (3/62) Page 3\n",
      "[INFO] (4/62) Page 4\n",
      "[INFO] (5/62) Page 5\n",
      "[INFO] (6/62) Page 6\n",
      "[INFO] (7/62) Page 7\n",
      "[INFO] (8/62) Page 8\n",
      "[INFO] (9/62) Page 9\n",
      "[INFO] (10/62) Page 10\n",
      "[INFO] (11/62) Page 11\n",
      "[INFO] (12/62) Page 12\n",
      "[INFO] (13/62) Page 13\n",
      "[INFO] (14/62) Page 14\n",
      "[INFO] (15/62) Page 15\n",
      "[INFO] (16/62) Page 16\n",
      "[INFO] (17/62) Page 17\n",
      "[INFO] (18/62) Page 18\n",
      "[INFO] (19/62) Page 19\n",
      "[INFO] (20/62) Page 20\n",
      "[INFO] (21/62) Page 21\n",
      "[INFO] (22/62) Page 22\n",
      "[INFO] (23/62) Page 23\n",
      "[INFO] (24/62) Page 24\n",
      "[INFO] (25/62) Page 25\n",
      "[INFO] (26/62) Page 26\n",
      "[INFO] (27/62) Page 27\n",
      "[INFO] (28/62) Page 28\n",
      "[INFO] (29/62) Page 29\n",
      "[INFO] (30/62) Page 30\n",
      "[INFO] (31/62) Page 31\n",
      "[INFO] (32/62) Page 32\n",
      "[INFO] (33/62) Page 33\n",
      "[INFO] (34/62) Page 34\n",
      "[INFO] (35/62) Page 35\n",
      "[INFO] (36/62) Page 36\n",
      "[INFO] (37/62) Page 37\n",
      "[INFO] (38/62) Page 38\n",
      "[INFO] (39/62) Page 39\n",
      "[INFO] (40/62) Page 40\n",
      "[INFO] (41/62) Page 41\n",
      "[INFO] (42/62) Page 42\n",
      "[INFO] (43/62) Page 43\n",
      "[INFO] (44/62) Page 44\n",
      "[INFO] (45/62) Page 45\n",
      "[INFO] (46/62) Page 46\n",
      "[INFO] (47/62) Page 47\n",
      "[INFO] (48/62) Page 48\n",
      "[INFO] (49/62) Page 49\n",
      "[INFO] (50/62) Page 50\n",
      "[INFO] (51/62) Page 51\n",
      "[INFO] (52/62) Page 52\n",
      "[INFO] (53/62) Page 53\n",
      "[INFO] (54/62) Page 54\n",
      "[INFO] (55/62) Page 55\n",
      "[INFO] (56/62) Page 56\n",
      "[INFO] (57/62) Page 57\n",
      "[INFO] (58/62) Page 58\n",
      "[INFO] (59/62) Page 59\n",
      "[INFO] (60/62) Page 60\n",
      "[INFO] (61/62) Page 61\n",
      "[INFO] (62/62) Page 62\n",
      "[INFO] Terminated in 9.21s.\n"
     ]
    }
   ],
   "source": [
    "converter = pdf2docx.Converter(INPUT_PATH)\n",
    "converter.convert(OUTPUT_PATH)\n",
    "converter.close()"
   ]
  },
  {
   "cell_type": "code",
   "execution_count": 14,
   "metadata": {},
   "outputs": [],
   "source": [
    "md_converter = markitdown.MarkItDown()\n",
    "result = md_converter.convert(OUTPUT_PATH)\n",
    "\n",
    "# Save the result to out/test.md\n",
    "with open(\"./output/test.md\", \"w\") as f:\n",
    "    f.write(result.text_content)"
   ]
  }
 ],
 "metadata": {
  "kernelspec": {
   "display_name": "env",
   "language": "python",
   "name": "python3"
  },
  "language_info": {
   "codemirror_mode": {
    "name": "ipython",
    "version": 3
   },
   "file_extension": ".py",
   "mimetype": "text/x-python",
   "name": "python",
   "nbconvert_exporter": "python",
   "pygments_lexer": "ipython3",
   "version": "3.13.1"
  }
 },
 "nbformat": 4,
 "nbformat_minor": 2
}
